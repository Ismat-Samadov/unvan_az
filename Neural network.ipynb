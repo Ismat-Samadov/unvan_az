{
 "cells": [
  {
   "cell_type": "code",
   "execution_count": 1,
   "id": "01f62ceb",
   "metadata": {},
   "outputs": [],
   "source": [
    "## for data query\n",
    "import cx_Oracle\n",
    "## Data loading, processing and for more\n",
    "import pandas as pd\n",
    "import numpy as np\n",
    "from imblearn.over_sampling import SMOTE\n",
    "\n",
    "## Visualization\n",
    "import seaborn as sns\n",
    "import matplotlib.pyplot as plt\n",
    "# set seaborn style because it prettier\n",
    "sns.set()\n",
    "\n",
    "## Metrics\n",
    "from sklearn.metrics import confusion_matrix, accuracy_score,classification_report\n",
    "from sklearn import metrics\n",
    "from sklearn.metrics import auc\n",
    "from sklearn.metrics import precision_score, recall_score, roc_auc_score, roc_curve, f1_score\n",
    "\n",
    "#encoding & preprocessing\n",
    "from sklearn.preprocessing import OneHotEncoder\n",
    "from sklearn.compose import make_column_transformer\n",
    "from sklearn.preprocessing import MinMaxScaler\n",
    "from sklearn.preprocessing import LabelEncoder\n",
    "from sklearn.pipeline import make_pipeline\n",
    "\n",
    "## Models\n",
    "import xgboost as xgb\n",
    "from sklearn.neighbors import KNeighborsClassifier\n",
    "from sklearn.ensemble import RandomForestClassifier\n",
    "from sklearn.ensemble import VotingClassifier\n",
    "from sklearn.preprocessing import MinMaxScaler\n",
    "from sklearn.model_selection import train_test_split\n",
    "import tensorflow as tf\n",
    "\n",
    "## Some other libraries\n",
    "import time\n",
    "import warnings\n",
    "warnings.filterwarnings(\"ignore\", category=DeprecationWarning)"
   ]
  },
  {
   "cell_type": "code",
   "execution_count": 2,
   "id": "89f21175",
   "metadata": {},
   "outputs": [
    {
     "name": "stdout",
     "output_type": "stream",
     "text": [
      "Wall time: 2min 23s\n"
     ]
    }
   ],
   "source": [
    "%%time\n",
    "data = pd.read_excel(r'C:\\Users\\SamadovIAz\\Desktop\\snd\\machine learning models\\fraud_detection\\df_last.xlsx')\n",
    "deploy = pd.read_excel(r'C:\\Users\\SamadovIAz\\Desktop\\snd\\machine learning models\\fraud_detection\\deploy_data.xlsx')"
   ]
  },
  {
   "cell_type": "code",
   "execution_count": 3,
   "id": "8af21bbd",
   "metadata": {},
   "outputs": [],
   "source": [
    "features=['AGE','GENDER','MCC_GROUP','AMOUNT','EXPERIENCE_BY_MONTH']\n",
    "categoric_columns = ['GENDER','MCC_GROUP']\n",
    "target=['Fraud']\n",
    "X = data[features]\n",
    "y = data[target]"
   ]
  },
  {
   "cell_type": "code",
   "execution_count": 4,
   "id": "3adcf513",
   "metadata": {},
   "outputs": [],
   "source": [
    "def encode_and_bind(original_dataframe, categoric_columns):\n",
    "    dummies = pd.get_dummies(original_dataframe[categoric_columns],drop_first=True)\n",
    "    res = pd.concat([dummies, original_dataframe], axis=1)\n",
    "    res = res.drop(categoric_columns, axis=1)\n",
    "    return(res);\n",
    "X_encoded = encode_and_bind(X, categoric_columns)"
   ]
  },
  {
   "cell_type": "code",
   "execution_count": 5,
   "id": "2d2e9211",
   "metadata": {},
   "outputs": [],
   "source": [
    "X_train,X_test,y_train,y_test = train_test_split(X_encoded,y,test_size=0.3,random_state=42,shuffle=True)"
   ]
  },
  {
   "cell_type": "code",
   "execution_count": 9,
   "id": "e63aef84",
   "metadata": {
    "scrolled": true
   },
   "outputs": [
    {
     "name": "stdout",
     "output_type": "stream",
     "text": [
      "Epoch 1/10\n",
      "8181/8181 [==============================] - 24s 3ms/step - loss: 0.1072 - accuracy: 0.9718\n",
      "Epoch 2/10\n",
      "8181/8181 [==============================] - 23s 3ms/step - loss: 0.0926 - accuracy: 0.9717\n",
      "Epoch 3/10\n",
      "8181/8181 [==============================] - 23s 3ms/step - loss: 0.0895 - accuracy: 0.9717\n",
      "Epoch 4/10\n",
      "8181/8181 [==============================] - 23s 3ms/step - loss: 0.0884 - accuracy: 0.9718\n",
      "Epoch 5/10\n",
      "8181/8181 [==============================] - 23s 3ms/step - loss: 0.0881 - accuracy: 0.9717\n",
      "Epoch 6/10\n",
      "8181/8181 [==============================] - 23s 3ms/step - loss: 0.0879 - accuracy: 0.9718\n",
      "Epoch 7/10\n",
      "8181/8181 [==============================] - 22s 3ms/step - loss: 0.0879 - accuracy: 0.9718\n",
      "Epoch 8/10\n",
      "8181/8181 [==============================] - 23s 3ms/step - loss: 0.0865 - accuracy: 0.9718\n",
      "Epoch 9/10\n",
      "8181/8181 [==============================] - 23s 3ms/step - loss: 0.0854 - accuracy: 0.9718\n",
      "Epoch 10/10\n",
      "8181/8181 [==============================] - 23s 3ms/step - loss: 0.0845 - accuracy: 0.9721\n",
      "Wall time: 3min 49s\n"
     ]
    },
    {
     "data": {
      "text/plain": [
       "<keras.callbacks.History at 0x1bcaad95f70>"
      ]
     },
     "execution_count": 9,
     "metadata": {},
     "output_type": "execute_result"
    }
   ],
   "source": [
    "%%time\n",
    "ann = tf.keras.models.Sequential()\n",
    "\n",
    "ann.add(tf.keras.layers.Dense(units=6, activation='relu'))\n",
    "\n",
    "ann.add(tf.keras.layers.Dense(units=3, activation='relu'))\n",
    "\n",
    "# ann.add(tf.keras.layers.Dense(units=3, activation='relu'))\n",
    "\n",
    "# ann.add(tf.keras.layers.Dense(units=3, activation='relu'))\n",
    "\n",
    "# ann.add(tf.keras.layers.Dense(units=3, activation='relu'))\n",
    "\n",
    "ann.add(tf.keras.layers.Dense(units=1, activation='sigmoid'))\n",
    "\n",
    "ann.compile(optimizer = 'Adam', loss = 'binary_crossentropy', metrics = ['accuracy'])\n",
    "\n",
    "ann.fit(X_train, y_train, batch_size = 64, epochs =10 )"
   ]
  },
  {
   "cell_type": "code",
   "execution_count": 18,
   "id": "3d51cf03",
   "metadata": {},
   "outputs": [
    {
     "name": "stdout",
     "output_type": "stream",
     "text": [
      "7012/7012 [==============================] - 9s 1ms/step\n",
      "0.9732196576358961\n",
      "              precision    recall  f1-score   support\n",
      "\n",
      "           0       0.97      1.00      0.99    217958\n",
      "           1       0.75      0.10      0.17      6423\n",
      "\n",
      "    accuracy                           0.97    224381\n",
      "   macro avg       0.86      0.55      0.58    224381\n",
      "weighted avg       0.97      0.97      0.96    224381\n",
      "\n"
     ]
    }
   ],
   "source": [
    "ann_prediction = ann.predict(X_test)\n",
    "\n",
    "ann_prediction = (ann_prediction > 0.5)\n",
    "\n",
    "print(accuracy_score(y_test, ann_prediction))\n",
    "\n",
    "print(classification_report(y_test, ann_prediction))"
   ]
  },
  {
   "cell_type": "code",
   "execution_count": 25,
   "id": "51658f33",
   "metadata": {},
   "outputs": [
    {
     "data": {
      "text/plain": [
       "dict_values([])"
      ]
     },
     "execution_count": 25,
     "metadata": {},
     "output_type": "execute_result"
    }
   ],
   "source": [
    "ann.history.history"
   ]
  },
  {
   "cell_type": "code",
   "execution_count": 11,
   "id": "68c6a187",
   "metadata": {},
   "outputs": [],
   "source": [
    "X_encoded = encode_and_bind(X, categoric_columns)"
   ]
  },
  {
   "cell_type": "code",
   "execution_count": null,
   "id": "565c9906",
   "metadata": {},
   "outputs": [],
   "source": []
  },
  {
   "cell_type": "code",
   "execution_count": null,
   "id": "331f9118",
   "metadata": {},
   "outputs": [],
   "source": []
  },
  {
   "cell_type": "code",
   "execution_count": null,
   "id": "9ee95bf7",
   "metadata": {},
   "outputs": [],
   "source": []
  },
  {
   "cell_type": "code",
   "execution_count": null,
   "id": "cd9b1c2c",
   "metadata": {},
   "outputs": [],
   "source": []
  },
  {
   "cell_type": "code",
   "execution_count": null,
   "id": "1fbf3e68",
   "metadata": {},
   "outputs": [],
   "source": []
  },
  {
   "cell_type": "code",
   "execution_count": null,
   "id": "64c0b483",
   "metadata": {},
   "outputs": [],
   "source": []
  },
  {
   "cell_type": "code",
   "execution_count": null,
   "id": "2d7fe197",
   "metadata": {},
   "outputs": [],
   "source": []
  },
  {
   "cell_type": "code",
   "execution_count": null,
   "id": "53cd1691",
   "metadata": {},
   "outputs": [],
   "source": []
  },
  {
   "cell_type": "code",
   "execution_count": null,
   "id": "788443f7",
   "metadata": {},
   "outputs": [],
   "source": []
  },
  {
   "cell_type": "code",
   "execution_count": null,
   "id": "f13eaee2",
   "metadata": {},
   "outputs": [],
   "source": []
  },
  {
   "cell_type": "code",
   "execution_count": null,
   "id": "06547ce0",
   "metadata": {},
   "outputs": [],
   "source": []
  },
  {
   "cell_type": "code",
   "execution_count": null,
   "id": "5fc1f2b1",
   "metadata": {},
   "outputs": [],
   "source": []
  },
  {
   "cell_type": "code",
   "execution_count": null,
   "id": "7a5509a3",
   "metadata": {},
   "outputs": [],
   "source": []
  },
  {
   "cell_type": "code",
   "execution_count": null,
   "id": "5f9f5e27",
   "metadata": {},
   "outputs": [],
   "source": []
  },
  {
   "cell_type": "code",
   "execution_count": null,
   "id": "657225e3",
   "metadata": {},
   "outputs": [],
   "source": []
  },
  {
   "cell_type": "code",
   "execution_count": null,
   "id": "5dbadc9b",
   "metadata": {},
   "outputs": [],
   "source": []
  },
  {
   "cell_type": "code",
   "execution_count": null,
   "id": "7502ee7e",
   "metadata": {},
   "outputs": [],
   "source": []
  }
 ],
 "metadata": {
  "celltoolbar": "Raw Cell Format",
  "kernelspec": {
   "display_name": "Python 3 (ipykernel)",
   "language": "python",
   "name": "python3"
  },
  "language_info": {
   "codemirror_mode": {
    "name": "ipython",
    "version": 3
   },
   "file_extension": ".py",
   "mimetype": "text/x-python",
   "name": "python",
   "nbconvert_exporter": "python",
   "pygments_lexer": "ipython3",
   "version": "3.9.7"
  }
 },
 "nbformat": 4,
 "nbformat_minor": 5
}
