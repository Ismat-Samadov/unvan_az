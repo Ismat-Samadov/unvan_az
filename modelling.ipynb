{
 "cells": [
  {
   "cell_type": "code",
   "execution_count": 1,
   "id": "a2e73031",
   "metadata": {},
   "outputs": [],
   "source": [
    "## for data query\n",
    "import cx_Oracle\n",
    "\n",
    "\n",
    "## Data loading, processing and for more\n",
    "import pandas as pd\n",
    "import numpy as np\n",
    "from imblearn.over_sampling import SMOTE\n",
    "\n",
    "## Visualization\n",
    "import seaborn as sns\n",
    "import matplotlib.pyplot as plt\n",
    "# set seaborn style because it prettier\n",
    "sns.set()\n",
    "\n",
    "## Metrics\n",
    "from sklearn.model_selection import train_test_split\n",
    "from sklearn.metrics import confusion_matrix, classification_report \n",
    "from sklearn import metrics\n",
    "from sklearn.metrics import auc\n",
    "from sklearn.metrics import accuracy_score, precision_score, recall_score, roc_auc_score, roc_curve, f1_score\n",
    "\n",
    "#encoding & preprocessing\n",
    "from sklearn.preprocessing import OneHotEncoder\n",
    "from sklearn.compose import make_column_transformer\n",
    "from sklearn.preprocessing import MinMaxScaler\n",
    "from sklearn.preprocessing import LabelEncoder\n",
    "from sklearn.pipeline import make_pipeline\n",
    "\n",
    "## Models\n",
    "import xgboost as xgb\n",
    "from sklearn.neighbors import KNeighborsClassifier\n",
    "from sklearn.ensemble import RandomForestClassifier\n",
    "from sklearn.ensemble import VotingClassifier\n",
    "\n",
    "import time\n",
    "import warnings\n",
    "warnings.filterwarnings(\"ignore\", category=DeprecationWarning)"
   ]
  },
  {
   "cell_type": "code",
   "execution_count": 2,
   "id": "65aa1695",
   "metadata": {
    "scrolled": true
   },
   "outputs": [
    {
     "data": {
      "text/html": [
       "<div>\n",
       "<style scoped>\n",
       "    .dataframe tbody tr th:only-of-type {\n",
       "        vertical-align: middle;\n",
       "    }\n",
       "\n",
       "    .dataframe tbody tr th {\n",
       "        vertical-align: top;\n",
       "    }\n",
       "\n",
       "    .dataframe thead th {\n",
       "        text-align: right;\n",
       "    }\n",
       "</style>\n",
       "<table border=\"1\" class=\"dataframe\">\n",
       "  <thead>\n",
       "    <tr style=\"text-align: right;\">\n",
       "      <th></th>\n",
       "      <th>CUSTOMER</th>\n",
       "      <th>AGE</th>\n",
       "      <th>GENDER</th>\n",
       "      <th>MCC_GROUP</th>\n",
       "      <th>AMOUNT</th>\n",
       "      <th>EXPERIENCE_BY_MONTH</th>\n",
       "      <th>Fraud</th>\n",
       "    </tr>\n",
       "  </thead>\n",
       "  <tbody>\n",
       "    <tr>\n",
       "      <th>0</th>\n",
       "      <td>4JZ9Z87</td>\n",
       "      <td>33</td>\n",
       "      <td>M</td>\n",
       "      <td>AFFILIATES</td>\n",
       "      <td>16.00</td>\n",
       "      <td>60</td>\n",
       "      <td>0</td>\n",
       "    </tr>\n",
       "    <tr>\n",
       "      <th>1</th>\n",
       "      <td>3JHUMJD</td>\n",
       "      <td>40</td>\n",
       "      <td>M</td>\n",
       "      <td>AFFILIATES</td>\n",
       "      <td>258.00</td>\n",
       "      <td>82</td>\n",
       "      <td>0</td>\n",
       "    </tr>\n",
       "    <tr>\n",
       "      <th>2</th>\n",
       "      <td>1E6R28G</td>\n",
       "      <td>39</td>\n",
       "      <td>F</td>\n",
       "      <td>AFFILIATES</td>\n",
       "      <td>10.00</td>\n",
       "      <td>192</td>\n",
       "      <td>0</td>\n",
       "    </tr>\n",
       "    <tr>\n",
       "      <th>3</th>\n",
       "      <td>6BVAVXV</td>\n",
       "      <td>25</td>\n",
       "      <td>F</td>\n",
       "      <td>AFFILIATES</td>\n",
       "      <td>327.00</td>\n",
       "      <td>7</td>\n",
       "      <td>0</td>\n",
       "    </tr>\n",
       "    <tr>\n",
       "      <th>4</th>\n",
       "      <td>5HV1XKM</td>\n",
       "      <td>30</td>\n",
       "      <td>M</td>\n",
       "      <td>AFFILIATES</td>\n",
       "      <td>198.00</td>\n",
       "      <td>74</td>\n",
       "      <td>0</td>\n",
       "    </tr>\n",
       "    <tr>\n",
       "      <th>...</th>\n",
       "      <td>...</td>\n",
       "      <td>...</td>\n",
       "      <td>...</td>\n",
       "      <td>...</td>\n",
       "      <td>...</td>\n",
       "      <td>...</td>\n",
       "      <td>...</td>\n",
       "    </tr>\n",
       "    <tr>\n",
       "      <th>747931</th>\n",
       "      <td>28GM43V</td>\n",
       "      <td>36</td>\n",
       "      <td>M</td>\n",
       "      <td>WHOLESALE SUPPLIERS AND MANUFACTURERS</td>\n",
       "      <td>580.00</td>\n",
       "      <td>153</td>\n",
       "      <td>1</td>\n",
       "    </tr>\n",
       "    <tr>\n",
       "      <th>747932</th>\n",
       "      <td>5J3258D</td>\n",
       "      <td>30</td>\n",
       "      <td>M</td>\n",
       "      <td>WHOLESALE SUPPLIERS AND MANUFACTURERS</td>\n",
       "      <td>3.90</td>\n",
       "      <td>67</td>\n",
       "      <td>1</td>\n",
       "    </tr>\n",
       "    <tr>\n",
       "      <th>747933</th>\n",
       "      <td>5J3258D</td>\n",
       "      <td>30</td>\n",
       "      <td>M</td>\n",
       "      <td>WHOLESALE SUPPLIERS AND MANUFACTURERS</td>\n",
       "      <td>28.33</td>\n",
       "      <td>67</td>\n",
       "      <td>1</td>\n",
       "    </tr>\n",
       "    <tr>\n",
       "      <th>747934</th>\n",
       "      <td>5VJ1EWF</td>\n",
       "      <td>28</td>\n",
       "      <td>M</td>\n",
       "      <td>WHOLESALE SUPPLIERS AND MANUFACTURERS</td>\n",
       "      <td>530.00</td>\n",
       "      <td>43</td>\n",
       "      <td>1</td>\n",
       "    </tr>\n",
       "    <tr>\n",
       "      <th>747935</th>\n",
       "      <td>28GM43V</td>\n",
       "      <td>36</td>\n",
       "      <td>M</td>\n",
       "      <td>WHOLESALE SUPPLIERS AND MANUFACTURERS</td>\n",
       "      <td>0.01</td>\n",
       "      <td>153</td>\n",
       "      <td>1</td>\n",
       "    </tr>\n",
       "  </tbody>\n",
       "</table>\n",
       "<p>747936 rows × 7 columns</p>\n",
       "</div>"
      ],
      "text/plain": [
       "       CUSTOMER  AGE GENDER                              MCC_GROUP  AMOUNT  \\\n",
       "0       4JZ9Z87   33      M                             AFFILIATES   16.00   \n",
       "1       3JHUMJD   40      M                             AFFILIATES  258.00   \n",
       "2       1E6R28G   39      F                             AFFILIATES   10.00   \n",
       "3       6BVAVXV   25      F                             AFFILIATES  327.00   \n",
       "4       5HV1XKM   30      M                             AFFILIATES  198.00   \n",
       "...         ...  ...    ...                                    ...     ...   \n",
       "747931  28GM43V   36      M  WHOLESALE SUPPLIERS AND MANUFACTURERS  580.00   \n",
       "747932  5J3258D   30      M  WHOLESALE SUPPLIERS AND MANUFACTURERS    3.90   \n",
       "747933  5J3258D   30      M  WHOLESALE SUPPLIERS AND MANUFACTURERS   28.33   \n",
       "747934  5VJ1EWF   28      M  WHOLESALE SUPPLIERS AND MANUFACTURERS  530.00   \n",
       "747935  28GM43V   36      M  WHOLESALE SUPPLIERS AND MANUFACTURERS    0.01   \n",
       "\n",
       "        EXPERIENCE_BY_MONTH  Fraud  \n",
       "0                        60      0  \n",
       "1                        82      0  \n",
       "2                       192      0  \n",
       "3                         7      0  \n",
       "4                        74      0  \n",
       "...                     ...    ...  \n",
       "747931                  153      1  \n",
       "747932                   67      1  \n",
       "747933                   67      1  \n",
       "747934                   43      1  \n",
       "747935                  153      1  \n",
       "\n",
       "[747936 rows x 7 columns]"
      ]
     },
     "execution_count": 2,
     "metadata": {},
     "output_type": "execute_result"
    }
   ],
   "source": [
    "data = pd.read_excel(r'C:\\Users\\SamadovIAz\\Desktop\\snd\\machine learning models\\fraud_detection\\df_last.xlsx')\n",
    "data"
   ]
  },
  {
   "cell_type": "code",
   "execution_count": 3,
   "id": "512525ce",
   "metadata": {},
   "outputs": [
    {
     "data": {
      "text/plain": [
       "<AxesSubplot:xlabel='EXPERIENCE_BY_MONTH', ylabel='AMOUNT'>"
      ]
     },
     "execution_count": 3,
     "metadata": {},
     "output_type": "execute_result"
    },
    {
     "data": {
      "image/png": "[encoded data removed]",
      "text/plain": [
       "<Figure size 432x288 with 1 Axes>"
      ]
     },
     "metadata": {},
     "output_type": "display_data"
    }
   ],
   "source": [
    "sns.scatterplot(data=data,y='AMOUNT',x='EXPERIENCE_BY_MONTH')"
   ]
  },
  {
   "cell_type": "code",
   "execution_count": 4,
   "id": "daf21926",
   "metadata": {},
   "outputs": [
    {
     "data": {
      "text/plain": [
       "<AxesSubplot:xlabel='AGE', ylabel='AMOUNT'>"
      ]
     },
     "execution_count": 4,
     "metadata": {},
     "output_type": "execute_result"
    },
    {
     "data": {
      "image/png": "[encoded data removed]",
      "text/plain": [
       "<Figure size 432x288 with 1 Axes>"
      ]
     },
     "metadata": {},
     "output_type": "display_data"
    }
   ],
   "source": [
    "sns.scatterplot(data=data,y='AMOUNT',x='AGE')"
   ]
  },
  {
   "cell_type": "code",
   "execution_count": 5,
   "id": "b5bd7f1f",
   "metadata": {},
   "outputs": [
    {
     "data": {
      "text/plain": [
       "<seaborn.axisgrid.FacetGrid at 0x22b52b42640>"
      ]
     },
     "execution_count": 5,
     "metadata": {},
     "output_type": "execute_result"
    },
    {
     "data": {
      "image/png": "[encoded data removed]",
      "text/plain": [
       "<Figure size 360x360 with 1 Axes>"
      ]
     },
     "metadata": {},
     "output_type": "display_data"
    }
   ],
   "source": [
    "sns.displot(data['AGE'],kde=True)"
   ]
  },
  {
   "cell_type": "code",
   "execution_count": 6,
   "id": "79c3d0e0",
   "metadata": {},
   "outputs": [],
   "source": [
    "# sns.displot(data['AMOUNT'],kde=True)"
   ]
  },
  {
   "cell_type": "code",
   "execution_count": 7,
   "id": "525caa9d",
   "metadata": {},
   "outputs": [
    {
     "data": {
      "text/plain": [
       "<AxesSubplot:>"
      ]
     },
     "execution_count": 7,
     "metadata": {},
     "output_type": "execute_result"
    },
    {
     "data": {
      "image/png": "[encoded data removed]",
      "text/plain": [
       "<Figure size 432x288 with 2 Axes>"
      ]
     },
     "metadata": {},
     "output_type": "display_data"
    }
   ],
   "source": [
    "sns.heatmap(data=data[['AGE','AMOUNT','EXPERIENCE_BY_MONTH']].corr(),annot=True,cmap='coolwarm',linecolor='white',linewidth=9)"
   ]
  },
  {
   "cell_type": "code",
   "execution_count": 8,
   "id": "b4af0c25",
   "metadata": {},
   "outputs": [],
   "source": [
    "features=['AGE','GENDER','MCC_GROUP','AMOUNT','EXPERIENCE_BY_MONTH']\n",
    "target=['Fraud']"
   ]
  },
  {
   "cell_type": "code",
   "execution_count": 9,
   "id": "45319cd0",
   "metadata": {},
   "outputs": [],
   "source": [
    "X = data[features]\n",
    "y = data[target]"
   ]
  },
  {
   "cell_type": "code",
   "execution_count": 11,
   "id": "a965aec0",
   "metadata": {
    "scrolled": true
   },
   "outputs": [
    {
     "data": {
      "text/html": [
       "<div>\n",
       "<style scoped>\n",
       "    .dataframe tbody tr th:only-of-type {\n",
       "        vertical-align: middle;\n",
       "    }\n",
       "\n",
       "    .dataframe tbody tr th {\n",
       "        vertical-align: top;\n",
       "    }\n",
       "\n",
       "    .dataframe thead th {\n",
       "        text-align: right;\n",
       "    }\n",
       "</style>\n",
       "<table border=\"1\" class=\"dataframe\">\n",
       "  <thead>\n",
       "    <tr style=\"text-align: right;\">\n",
       "      <th></th>\n",
       "      <th>Skewness</th>\n",
       "    </tr>\n",
       "  </thead>\n",
       "  <tbody>\n",
       "    <tr>\n",
       "      <th>AGE</th>\n",
       "      <td>1.563932</td>\n",
       "    </tr>\n",
       "    <tr>\n",
       "      <th>AMOUNT</th>\n",
       "      <td>238.798701</td>\n",
       "    </tr>\n",
       "    <tr>\n",
       "      <th>EXPERIENCE_BY_MONTH</th>\n",
       "      <td>1.844095</td>\n",
       "    </tr>\n",
       "  </tbody>\n",
       "</table>\n",
       "</div>"
      ],
      "text/plain": [
       "                       Skewness\n",
       "AGE                    1.563932\n",
       "AMOUNT               238.798701\n",
       "EXPERIENCE_BY_MONTH    1.844095"
      ]
     },
     "execution_count": 11,
     "metadata": {},
     "output_type": "execute_result"
    }
   ],
   "source": [
    "# If the skewness is between -0.5 and 0.5, the data are fairly symmetrical\n",
    "# If the skewness is between -1 and – 0.5 or between 0.5 and 1, the data are moderately skewed\n",
    "# If the skewness is less than -1 or greater than 1, the data are highly skewed\n",
    "\n",
    "pd.DataFrame(X.skew(numeric_only=True),columns=['Skewness'])"
   ]
  },
  {
   "cell_type": "code",
   "execution_count": 15,
   "id": "960a04c8",
   "metadata": {},
   "outputs": [],
   "source": [
    "X_train,X_test,y_train,y_test = train_test_split(X,y,test_size=0.3,random_state=42,shuffle=True)"
   ]
  },
  {
   "cell_type": "code",
   "execution_count": 16,
   "id": "e81df147",
   "metadata": {},
   "outputs": [],
   "source": [
    "features_to_encode = X_train.columns[X_train.dtypes==object].tolist()  "
   ]
  },
  {
   "cell_type": "code",
   "execution_count": 17,
   "id": "64d4a373",
   "metadata": {},
   "outputs": [],
   "source": [
    "col_trans = make_column_transformer((OneHotEncoder(drop='first'),features_to_encode),remainder = \"passthrough\")"
   ]
  },
  {
   "cell_type": "code",
   "execution_count": 18,
   "id": "5a2da87d",
   "metadata": {},
   "outputs": [],
   "source": [
    "rf_classifier = RandomForestClassifier (\n",
    "                                          min_samples_leaf=50,\n",
    "                                          n_estimators=150,\n",
    "                                          bootstrap=True,\n",
    "                                          oob_score=True,\n",
    "                                          n_jobs=-1,\n",
    "                                          random_state=47,\n",
    "                                          max_features='sqrt'\n",
    "                                       )"
   ]
  },
  {
   "cell_type": "code",
   "execution_count": 19,
   "id": "12e30610",
   "metadata": {},
   "outputs": [],
   "source": [
    "pipe = make_pipeline(col_trans, rf_classifier)"
   ]
  },
  {
   "cell_type": "code",
   "execution_count": 20,
   "id": "2271fcd6",
   "metadata": {},
   "outputs": [
    {
     "data": {
      "text/html": [
       "<style>#sk-container-id-1 {color: black;background-color: white;}#sk-container-id-1 pre{padding: 0;}#sk-container-id-1 div.sk-toggleable {background-color: white;}#sk-container-id-1 label.sk-toggleable__label {cursor: pointer;display: block;width: 100%;margin-bottom: 0;padding: 0.3em;box-sizing: border-box;text-align: center;}#sk-container-id-1 label.sk-toggleable__label-arrow:before {content: \"▸\";float: left;margin-right: 0.25em;color: #696969;}#sk-container-id-1 label.sk-toggleable__label-arrow:hover:before {color: black;}#sk-container-id-1 div.sk-estimator:hover label.sk-toggleable__label-arrow:before {color: black;}#sk-container-id-1 div.sk-toggleable__content {max-height: 0;max-width: 0;overflow: hidden;text-align: left;background-color: #f0f8ff;}#sk-container-id-1 div.sk-toggleable__content pre {margin: 0.2em;color: black;border-radius: 0.25em;background-color: #f0f8ff;}#sk-container-id-1 input.sk-toggleable__control:checked~div.sk-toggleable__content {max-height: 200px;max-width: 100%;overflow: auto;}#sk-container-id-1 input.sk-toggleable__control:checked~label.sk-toggleable__label-arrow:before {content: \"▾\";}#sk-container-id-1 div.sk-estimator input.sk-toggleable__control:checked~label.sk-toggleable__label {background-color: #d4ebff;}#sk-container-id-1 div.sk-label input.sk-toggleable__control:checked~label.sk-toggleable__label {background-color: #d4ebff;}#sk-container-id-1 input.sk-hidden--visually {border: 0;clip: rect(1px 1px 1px 1px);clip: rect(1px, 1px, 1px, 1px);height: 1px;margin: -1px;overflow: hidden;padding: 0;position: absolute;width: 1px;}#sk-container-id-1 div.sk-estimator {font-family: monospace;background-color: #f0f8ff;border: 1px dotted black;border-radius: 0.25em;box-sizing: border-box;margin-bottom: 0.5em;}#sk-container-id-1 div.sk-estimator:hover {background-color: #d4ebff;}#sk-container-id-1 div.sk-parallel-item::after {content: \"\";width: 100%;border-bottom: 1px solid gray;flex-grow: 1;}#sk-container-id-1 div.sk-label:hover label.sk-toggleable__label {background-color: #d4ebff;}#sk-container-id-1 div.sk-serial::before {content: \"\";position: absolute;border-left: 1px solid gray;box-sizing: border-box;top: 0;bottom: 0;left: 50%;z-index: 0;}#sk-container-id-1 div.sk-serial {display: flex;flex-direction: column;align-items: center;background-color: white;padding-right: 0.2em;padding-left: 0.2em;position: relative;}#sk-container-id-1 div.sk-item {position: relative;z-index: 1;}#sk-container-id-1 div.sk-parallel {display: flex;align-items: stretch;justify-content: center;background-color: white;position: relative;}#sk-container-id-1 div.sk-item::before, #sk-container-id-1 div.sk-parallel-item::before {content: \"\";position: absolute;border-left: 1px solid gray;box-sizing: border-box;top: 0;bottom: 0;left: 50%;z-index: -1;}#sk-container-id-1 div.sk-parallel-item {display: flex;flex-direction: column;z-index: 1;position: relative;background-color: white;}#sk-container-id-1 div.sk-parallel-item:first-child::after {align-self: flex-end;width: 50%;}#sk-container-id-1 div.sk-parallel-item:last-child::after {align-self: flex-start;width: 50%;}#sk-container-id-1 div.sk-parallel-item:only-child::after {width: 0;}#sk-container-id-1 div.sk-dashed-wrapped {border: 1px dashed gray;margin: 0 0.4em 0.5em 0.4em;box-sizing: border-box;padding-bottom: 0.4em;background-color: white;}#sk-container-id-1 div.sk-label label {font-family: monospace;font-weight: bold;display: inline-block;line-height: 1.2em;}#sk-container-id-1 div.sk-label-container {text-align: center;}#sk-container-id-1 div.sk-container {/* jupyter's `normalize.less` sets `[hidden] { display: none; }` but bootstrap.min.css set `[hidden] { display: none !important; }` so we also need the `!important` here to be able to override the default hidden behavior on the sphinx rendered scikit-learn.org. See: https://github.com/scikit-learn/scikit-learn/issues/21755 */display: inline-block !important;position: relative;}#sk-container-id-1 div.sk-text-repr-fallback {display: none;}</style><div id=\"sk-container-id-1\" class=\"sk-top-container\"><div class=\"sk-text-repr-fallback\"><pre>Pipeline(steps=[(&#x27;columntransformer&#x27;,\n",
       "                 ColumnTransformer(remainder=&#x27;passthrough&#x27;,\n",
       "                                   transformers=[(&#x27;onehotencoder&#x27;,\n",
       "                                                  OneHotEncoder(drop=&#x27;first&#x27;),\n",
       "                                                  [&#x27;GENDER&#x27;, &#x27;MCC_GROUP&#x27;])])),\n",
       "                (&#x27;randomforestclassifier&#x27;,\n",
       "                 RandomForestClassifier(min_samples_leaf=50, n_estimators=150,\n",
       "                                        n_jobs=-1, oob_score=True,\n",
       "                                        random_state=47))])</pre><b>In a Jupyter environment, please rerun this cell to show the HTML representation or trust the notebook. <br />On GitHub, the HTML representation is unable to render, please try loading this page with nbviewer.org.</b></div><div class=\"sk-container\" hidden><div class=\"sk-item sk-dashed-wrapped\"><div class=\"sk-label-container\"><div class=\"sk-label sk-toggleable\"><input class=\"sk-toggleable__control sk-hidden--visually\" id=\"sk-estimator-id-1\" type=\"checkbox\" ><label for=\"sk-estimator-id-1\" class=\"sk-toggleable__label sk-toggleable__label-arrow\">Pipeline</label><div class=\"sk-toggleable__content\"><pre>Pipeline(steps=[(&#x27;columntransformer&#x27;,\n",
       "                 ColumnTransformer(remainder=&#x27;passthrough&#x27;,\n",
       "                                   transformers=[(&#x27;onehotencoder&#x27;,\n",
       "                                                  OneHotEncoder(drop=&#x27;first&#x27;),\n",
       "                                                  [&#x27;GENDER&#x27;, &#x27;MCC_GROUP&#x27;])])),\n",
       "                (&#x27;randomforestclassifier&#x27;,\n",
       "                 RandomForestClassifier(min_samples_leaf=50, n_estimators=150,\n",
       "                                        n_jobs=-1, oob_score=True,\n",
       "                                        random_state=47))])</pre></div></div></div><div class=\"sk-serial\"><div class=\"sk-item sk-dashed-wrapped\"><div class=\"sk-label-container\"><div class=\"sk-label sk-toggleable\"><input class=\"sk-toggleable__control sk-hidden--visually\" id=\"sk-estimator-id-2\" type=\"checkbox\" ><label for=\"sk-estimator-id-2\" class=\"sk-toggleable__label sk-toggleable__label-arrow\">columntransformer: ColumnTransformer</label><div class=\"sk-toggleable__content\"><pre>ColumnTransformer(remainder=&#x27;passthrough&#x27;,\n",
       "                  transformers=[(&#x27;onehotencoder&#x27;, OneHotEncoder(drop=&#x27;first&#x27;),\n",
       "                                 [&#x27;GENDER&#x27;, &#x27;MCC_GROUP&#x27;])])</pre></div></div></div><div class=\"sk-parallel\"><div class=\"sk-parallel-item\"><div class=\"sk-item\"><div class=\"sk-label-container\"><div class=\"sk-label sk-toggleable\"><input class=\"sk-toggleable__control sk-hidden--visually\" id=\"sk-estimator-id-3\" type=\"checkbox\" ><label for=\"sk-estimator-id-3\" class=\"sk-toggleable__label sk-toggleable__label-arrow\">onehotencoder</label><div class=\"sk-toggleable__content\"><pre>[&#x27;GENDER&#x27;, &#x27;MCC_GROUP&#x27;]</pre></div></div></div><div class=\"sk-serial\"><div class=\"sk-item\"><div class=\"sk-estimator sk-toggleable\"><input class=\"sk-toggleable__control sk-hidden--visually\" id=\"sk-estimator-id-4\" type=\"checkbox\" ><label for=\"sk-estimator-id-4\" class=\"sk-toggleable__label sk-toggleable__label-arrow\">OneHotEncoder</label><div class=\"sk-toggleable__content\"><pre>OneHotEncoder(drop=&#x27;first&#x27;)</pre></div></div></div></div></div></div><div class=\"sk-parallel-item\"><div class=\"sk-item\"><div class=\"sk-label-container\"><div class=\"sk-label sk-toggleable\"><input class=\"sk-toggleable__control sk-hidden--visually\" id=\"sk-estimator-id-5\" type=\"checkbox\" ><label for=\"sk-estimator-id-5\" class=\"sk-toggleable__label sk-toggleable__label-arrow\">remainder</label><div class=\"sk-toggleable__content\"><pre>[&#x27;AGE&#x27;, &#x27;AMOUNT&#x27;, &#x27;EXPERIENCE_BY_MONTH&#x27;]</pre></div></div></div><div class=\"sk-serial\"><div class=\"sk-item\"><div class=\"sk-estimator sk-toggleable\"><input class=\"sk-toggleable__control sk-hidden--visually\" id=\"sk-estimator-id-6\" type=\"checkbox\" ><label for=\"sk-estimator-id-6\" class=\"sk-toggleable__label sk-toggleable__label-arrow\">passthrough</label><div class=\"sk-toggleable__content\"><pre>passthrough</pre></div></div></div></div></div></div></div></div><div class=\"sk-item\"><div class=\"sk-estimator sk-toggleable\"><input class=\"sk-toggleable__control sk-hidden--visually\" id=\"sk-estimator-id-7\" type=\"checkbox\" ><label for=\"sk-estimator-id-7\" class=\"sk-toggleable__label sk-toggleable__label-arrow\">RandomForestClassifier</label><div class=\"sk-toggleable__content\"><pre>RandomForestClassifier(min_samples_leaf=50, n_estimators=150, n_jobs=-1,\n",
       "                       oob_score=True, random_state=47)</pre></div></div></div></div></div></div></div>"
      ],
      "text/plain": [
       "Pipeline(steps=[('columntransformer',\n",
       "                 ColumnTransformer(remainder='passthrough',\n",
       "                                   transformers=[('onehotencoder',\n",
       "                                                  OneHotEncoder(drop='first'),\n",
       "                                                  ['GENDER', 'MCC_GROUP'])])),\n",
       "                ('randomforestclassifier',\n",
       "                 RandomForestClassifier(min_samples_leaf=50, n_estimators=150,\n",
       "                                        n_jobs=-1, oob_score=True,\n",
       "                                        random_state=47))])"
      ]
     },
     "execution_count": 20,
     "metadata": {},
     "output_type": "execute_result"
    }
   ],
   "source": [
    "pipe.fit(X_train,np.ravel(y_train))"
   ]
  },
  {
   "cell_type": "code",
   "execution_count": 21,
   "id": "597d717a",
   "metadata": {},
   "outputs": [],
   "source": [
    "y_pred = pipe.predict(X_test)"
   ]
  },
  {
   "cell_type": "code",
   "execution_count": null,
   "id": "475d5e38",
   "metadata": {},
   "outputs": [],
   "source": []
  },
  {
   "cell_type": "code",
   "execution_count": 22,
   "id": "dcc1cdb7",
   "metadata": {},
   "outputs": [
    {
     "name": "stdout",
     "output_type": "stream",
     "text": [
      "The accuracy of the model is 99.0 %\n"
     ]
    }
   ],
   "source": [
    "accuracy_score(y_test, y_pred)\n",
    "print(f\"The accuracy of the model is {round(accuracy_score(y_test,y_pred),3)*100} %\")"
   ]
  },
  {
   "cell_type": "code",
   "execution_count": 23,
   "id": "363c0e7e",
   "metadata": {},
   "outputs": [],
   "source": [
    "train_probs = pipe.predict_proba(X_train)[:,1] \n",
    "probs = pipe.predict_proba(X_test)[:, 1]\n",
    "train_predictions = pipe.predict(X_train)"
   ]
  },
  {
   "cell_type": "code",
   "execution_count": 24,
   "id": "cba4d49c",
   "metadata": {
    "scrolled": true
   },
   "outputs": [
    {
     "name": "stdout",
     "output_type": "stream",
     "text": [
      "Classification Report for Random Forest Classifier: \n",
      "               precision    recall  f1-score   support\n",
      "\n",
      "           0       0.99      1.00      0.99    217958\n",
      "           1       0.90      0.74      0.81      6423\n",
      "\n",
      "    accuracy                           0.99    224381\n",
      "   macro avg       0.95      0.87      0.90    224381\n",
      "weighted avg       0.99      0.99      0.99    224381\n",
      "\n"
     ]
    }
   ],
   "source": [
    "print(\"Classification Report for Random Forest Classifier: \\n\", classification_report(y_test, y_pred))"
   ]
  },
  {
   "cell_type": "code",
   "execution_count": 25,
   "id": "753d6b38",
   "metadata": {},
   "outputs": [
    {
     "name": "stdout",
     "output_type": "stream",
     "text": [
      "Train ROC AUC Score: 0.9977980029702094\n",
      "Test ROC AUC  Score: 0.9974972353077315\n"
     ]
    }
   ],
   "source": [
    "print(f'Train ROC AUC Score: { roc_auc_score(y_train, train_probs) }')\n",
    "print(f'Test ROC AUC  Score: { roc_auc_score(y_test, probs) }')"
   ]
  },
  {
   "cell_type": "code",
   "execution_count": 26,
   "id": "bce7b0cb",
   "metadata": {},
   "outputs": [],
   "source": [
    "# def evaluate_model(y_pred, probs,train_predictions, train_probs):\n",
    "#     baseline = {}\n",
    "#     baseline['recall']=recall_score(y_test,\n",
    "#                     [1 for _ in range(len(y_test))])\n",
    "#     baseline['precision'] = precision_score(y_test,\n",
    "#                     [1 for _ in range(len(y_test))])\n",
    "#     baseline['roc'] = 0.5\n",
    "#     results = {}\n",
    "#     results['recall'] = recall_score(y_test, y_pred)\n",
    "#     results['precision'] = precision_score(y_test, y_pred)\n",
    "#     results['roc'] = roc_auc_score(y_test, probs)\n",
    "#     train_results = {}\n",
    "#     train_results['recall'] = recall_score(y_train,       train_predictions)\n",
    "#     train_results['precision'] = precision_score(y_train, train_predictions)\n",
    "#     train_results['roc'] = roc_auc_score(y_train, train_probs)\n",
    "# #     for metric in ['recall', 'precision', 'roc']:  \n",
    "# #           print(f'{metric.capitalize()} \n",
    "# #                  Baseline: {round(baseline[metric], 2)} \n",
    "# #                  Test: {round(results[metric], 2)} \n",
    "# #                  Train: {round(train_results[metric], 2)}')\n",
    "#      # Calculate false positive rates and true positive rates\n",
    "#     base_fpr, base_tpr, _ = roc_curve(y_test, [1 for _ in range(len(y_test))])\n",
    "#     model_fpr, model_tpr, _ = roc_curve(y_test, probs)\n",
    "#     plt.figure(figsize = (8, 6))\n",
    "#     plt.rcParams['font.size'] = 16\n",
    "#     # Plot both curves\n",
    "#     plt.plot(base_fpr, base_tpr, 'b', label = 'baseline')\n",
    "#     plt.plot(model_fpr, model_tpr, 'r', label = 'model')\n",
    "#     plt.legend();\n",
    "#     plt.xlabel('False Positive Rate');\n",
    "#     plt.ylabel('True Positive Rate'); plt.title('ROC Curves');\n",
    "#     plt.show();\n",
    "# evaluate_model(y_pred,probs,train_predictions,train_probs)\n"
   ]
  },
  {
   "cell_type": "code",
   "execution_count": 27,
   "id": "fc60cd9a",
   "metadata": {},
   "outputs": [],
   "source": [
    "# import itertools\n",
    "# def plot_confusion_matrix(cm, classes, normalize = False,\n",
    "#                           title='Confusion matrix',\n",
    "#                           cmap=plt.cm.Greens): # can change color \n",
    "#     plt.figure(figsize = (10, 10))\n",
    "#     plt.imshow(cm, interpolation='nearest', cmap=cmap)\n",
    "#     plt.title(title, size = 24)\n",
    "#     plt.colorbar(aspect=4)\n",
    "#     tick_marks = np.arange(len(classes))\n",
    "#     plt.xticks(tick_marks, classes, rotation=45, size = 14)\n",
    "#     plt.yticks(tick_marks, classes, size = 14)\n",
    "#     fmt = '.2f' if normalize else 'd'\n",
    "#     thresh = cm.max() / 2.\n",
    "#     # Label the plot\n",
    "#     for i, j in itertools.product(range(cm.shape[0]),   range(cm.shape[1])):\n",
    "#         plt.text(j, i, format(cm[i, j], fmt), \n",
    "#                  fontsize = 20,\n",
    "#                  horizontalalignment=\"center\",\n",
    "#                  color=\"white\" if cm[i, j] > thresh else \"black\")\n",
    "#         plt.grid(None)\n",
    "#         plt.tight_layout()\n",
    "#         plt.ylabel('True label', size = 18)\n",
    "#         plt.xlabel('Predicted label', size = 18)\n",
    "\n",
    "# # Let's plot it out\n",
    "# cm = confusion_matrix(y_test, y_pred)\n",
    "# plot_confusion_matrix(cm, classes = ['0 - Stay', '1 - Exit'],\n",
    "#                       title = 'Exit_status Confusion Matrix')"
   ]
  },
  {
   "cell_type": "code",
   "execution_count": 28,
   "id": "d8eaddf8",
   "metadata": {
    "scrolled": true
   },
   "outputs": [],
   "source": [
    "# print(rf_classifier.feature_importances_)\n",
    "# print(f\" There are {len(rf_classifier.feature_importances_)} features in total\")"
   ]
  },
  {
   "cell_type": "code",
   "execution_count": 29,
   "id": "50268214",
   "metadata": {},
   "outputs": [],
   "source": [
    "def encode_and_bind(original_dataframe, features_to_encode):\n",
    "    dummies = pd.get_dummies(original_dataframe[features_to_encode])\n",
    "    res = pd.concat([dummies, original_dataframe], axis=1)\n",
    "    res = res.drop(features_to_encode, axis=1)\n",
    "    return(res)\n",
    "X_train_encoded = encode_and_bind(X_train, features_to_encode)"
   ]
  },
  {
   "cell_type": "code",
   "execution_count": 30,
   "id": "943eba36",
   "metadata": {},
   "outputs": [],
   "source": [
    "# feature_importances = list(zip(X_train_encoded, rf_classifier.feature_importances_))\n",
    "# # Then sort the feature importances by most important first\n",
    "# feature_importances_ranked = sorted(feature_importances, key = lambda x: x[1], reverse = True)\n",
    "# # Print out the feature and importances\n",
    "# [print('Feature: {:35} Importance: {}'.format(*pair)) for pair in feature_importances_ranked];"
   ]
  },
  {
   "cell_type": "code",
   "execution_count": 31,
   "id": "141e49f2",
   "metadata": {},
   "outputs": [],
   "source": [
    "# feature_names_25 = [i[0] for i in feature_importances_ranked[:25]]\n",
    "# y_ticks = np.arange(0, len(feature_names_25))\n",
    "# x_axis = [i[1] for i in feature_importances_ranked[:25]]\n",
    "# plt.figure(figsize = (10, 14))\n",
    "# plt.barh(feature_names_25, x_axis)   #horizontal barplot\n",
    "# plt.title('Random Forest Feature Importance (Top 25)',\n",
    "#           fontdict= {'fontname':'Comic Sans MS','fontsize' : 20})\n",
    "# plt.xlabel('Features',fontdict= {'fontsize' : 16})\n",
    "# plt.show()"
   ]
  },
  {
   "cell_type": "code",
   "execution_count": 32,
   "id": "2e4cbed2",
   "metadata": {
    "scrolled": true
   },
   "outputs": [],
   "source": [
    "# from pprint import pprint\n",
    "# print('Parameters currently in use:\\n')\n",
    "# pprint(rf_classifier.get_params())"
   ]
  },
  {
   "cell_type": "code",
   "execution_count": 35,
   "id": "d8a42e2e",
   "metadata": {},
   "outputs": [],
   "source": [
    "deploy = pd.read_excel(r'C:\\Users\\SamadovIAz\\Desktop\\snd\\machine learning models\\fraud_detection\\deploy_data.xlsx')"
   ]
  },
  {
   "cell_type": "code",
   "execution_count": 36,
   "id": "c3632c3d",
   "metadata": {},
   "outputs": [],
   "source": [
    "test = deploy.copy()\n",
    "test_withoutID = test.copy().drop('CUSTOMER', axis = 1)\n",
    "final_y = pipe.predict(test_withoutID)\n",
    "#pipe model only takes in dataframe without ID column.\n",
    "final_report = test\n",
    "final_report['Fraud_prediction'] = final_y\n",
    "final_report = final_report.loc[:,['CUSTOMER','Fraud_prediction']]\n",
    "# Replace 1-0 with Yes-No to make it interpretable\n",
    "# final_report= final_report.replace(1, 'Yes')\n",
    "# final_report= final_report.replace(0, 'No')"
   ]
  },
  {
   "cell_type": "code",
   "execution_count": 37,
   "id": "26626274",
   "metadata": {},
   "outputs": [
    {
     "data": {
      "text/html": [
       "<div>\n",
       "<style scoped>\n",
       "    .dataframe tbody tr th:only-of-type {\n",
       "        vertical-align: middle;\n",
       "    }\n",
       "\n",
       "    .dataframe tbody tr th {\n",
       "        vertical-align: top;\n",
       "    }\n",
       "\n",
       "    .dataframe thead th {\n",
       "        text-align: right;\n",
       "    }\n",
       "</style>\n",
       "<table border=\"1\" class=\"dataframe\">\n",
       "  <thead>\n",
       "    <tr style=\"text-align: right;\">\n",
       "      <th></th>\n",
       "      <th>CUSTOMER</th>\n",
       "      <th>Fraud_prediction</th>\n",
       "    </tr>\n",
       "  </thead>\n",
       "  <tbody>\n",
       "    <tr>\n",
       "      <th>0</th>\n",
       "      <td>0Y52MRJ</td>\n",
       "      <td>0</td>\n",
       "    </tr>\n",
       "    <tr>\n",
       "      <th>1</th>\n",
       "      <td>5UNXDMB</td>\n",
       "      <td>0</td>\n",
       "    </tr>\n",
       "    <tr>\n",
       "      <th>2</th>\n",
       "      <td>6AAWL0A</td>\n",
       "      <td>0</td>\n",
       "    </tr>\n",
       "    <tr>\n",
       "      <th>3</th>\n",
       "      <td>6FE9BGD</td>\n",
       "      <td>0</td>\n",
       "    </tr>\n",
       "    <tr>\n",
       "      <th>4</th>\n",
       "      <td>166KB3F</td>\n",
       "      <td>0</td>\n",
       "    </tr>\n",
       "    <tr>\n",
       "      <th>...</th>\n",
       "      <td>...</td>\n",
       "      <td>...</td>\n",
       "    </tr>\n",
       "    <tr>\n",
       "      <th>208780</th>\n",
       "      <td>63003KY</td>\n",
       "      <td>0</td>\n",
       "    </tr>\n",
       "    <tr>\n",
       "      <th>208781</th>\n",
       "      <td>4SKPEVY</td>\n",
       "      <td>0</td>\n",
       "    </tr>\n",
       "    <tr>\n",
       "      <th>208782</th>\n",
       "      <td>5LE54Q8</td>\n",
       "      <td>0</td>\n",
       "    </tr>\n",
       "    <tr>\n",
       "      <th>208783</th>\n",
       "      <td>5FV3N60</td>\n",
       "      <td>0</td>\n",
       "    </tr>\n",
       "    <tr>\n",
       "      <th>208784</th>\n",
       "      <td>1LGZ42N</td>\n",
       "      <td>0</td>\n",
       "    </tr>\n",
       "  </tbody>\n",
       "</table>\n",
       "<p>208785 rows × 2 columns</p>\n",
       "</div>"
      ],
      "text/plain": [
       "       CUSTOMER  Fraud_prediction\n",
       "0       0Y52MRJ                 0\n",
       "1       5UNXDMB                 0\n",
       "2       6AAWL0A                 0\n",
       "3       6FE9BGD                 0\n",
       "4       166KB3F                 0\n",
       "...         ...               ...\n",
       "208780  63003KY                 0\n",
       "208781  4SKPEVY                 0\n",
       "208782  5LE54Q8                 0\n",
       "208783  5FV3N60                 0\n",
       "208784  1LGZ42N                 0\n",
       "\n",
       "[208785 rows x 2 columns]"
      ]
     },
     "execution_count": 37,
     "metadata": {},
     "output_type": "execute_result"
    }
   ],
   "source": [
    "final_report"
   ]
  },
  {
   "cell_type": "code",
   "execution_count": 52,
   "id": "8ee4e458",
   "metadata": {},
   "outputs": [
    {
     "data": {
      "text/plain": [
       "'C:\\\\Users\\\\SamadovIAz\\\\Desktop\\\\snd\\\\machine learning models\\\\fraud_detection'"
      ]
     },
     "execution_count": 52,
     "metadata": {},
     "output_type": "execute_result"
    }
   ],
   "source": [
    "pwd"
   ]
  },
  {
   "cell_type": "code",
   "execution_count": 38,
   "id": "e8305930",
   "metadata": {},
   "outputs": [],
   "source": [
    "final_report.to_excel('deploy_prediction.xlsx', engine='xlsxwriter')"
   ]
  },
  {
   "cell_type": "code",
   "execution_count": 39,
   "id": "487aea36",
   "metadata": {},
   "outputs": [],
   "source": [
    "# from sklearn.model_selection import RandomizedSearchCV\n",
    "# n_estimators = [int(x) for x in np.linspace(start = 100, stop = 700, num = 50)]\n",
    "# max_features = ['auto', 'log2']  # Number of features to consider at every split\n",
    "# max_depth = [int(x) for x in np.linspace(10, 110, num = 11)]   # Maximum number of levels in tree\n",
    "# max_depth.append(None)\n",
    "# min_samples_split = [2, 5, 10]  # Minimum number of samples required to split a node\n",
    "# min_samples_leaf = [1, 4, 10]    # Minimum number of samples required at each leaf node\n",
    "# bootstrap = [True, False]       # Method of selecting samples for training each tree\n",
    "# random_grid = {'n_estimators': n_estimators,\n",
    "#                'max_features': max_features,\n",
    "#                'max_depth': max_depth,\n",
    "#                'min_samples_split': min_samples_split,\n",
    "#                'min_samples_leaf': min_samples_leaf,\n",
    "#                'max_leaf_nodes': [None] + list(np.linspace(10, 50, 500).astype(int)),\n",
    "#                'bootstrap': bootstrap}"
   ]
  },
  {
   "cell_type": "markdown",
   "id": "695ccfa4",
   "metadata": {},
   "source": [
    "<!-- # Create base model to tune\n",
    "rf = RandomForestClassifier(oob_score=True)\n",
    "# Create random search model and fit the data\n",
    "rf_random =  RandomizedSearchCV(estimator = rf,\n",
    "                                param_distributions = random_grid,\n",
    "                                n_iter = 100, cv = 3,\n",
    "                                verbose=2, random_state=47, \n",
    "                                scoring='roc_auc')\n",
    "rf_random.fit(X_train_encoded, np.ravel(y_train))\n",
    "rf_random.best_params_ -->"
   ]
  },
  {
   "cell_type": "code",
   "execution_count": 40,
   "id": "1a71690f",
   "metadata": {},
   "outputs": [],
   "source": [
    "# features=pd.get_dummies(X,drop_first=True)\n",
    "# features\n",
    "\n",
    "# ohe = OneHotEncoder(sparse_output=False)\n",
    "# ohe.fit(X_train[['GENDER','MCC_GROUP']])\n",
    "\n",
    "# def get_ohe(df):\n",
    "#     temp_df = pd.DataFrame(data=ohe.transform(df[['GENDER','MCC_GROUP']]), columns=ohe.get_feature_names_out())\n",
    "#     df.drop(columns=['GENDER','MCC_GROUP'], axis=1, inplace=True)\n",
    "#     df = pd.concat([df.reset_index(drop=True), temp_df], axis=1)\n",
    "#     return df\n",
    "\n",
    "# X_train = get_ohe(X_train)\n",
    "# X_test = get_ohe(X_test)"
   ]
  },
  {
   "cell_type": "code",
   "execution_count": 41,
   "id": "85f1af5c",
   "metadata": {},
   "outputs": [],
   "source": [
    "# sm = SMOTE(random_state=42)\n",
    "# X_res, y_res = sm.fit_resample(X , y)\n",
    "# y_res = pd.DataFrame(y_res)"
   ]
  },
  {
   "cell_type": "code",
   "execution_count": 42,
   "id": "99df1475",
   "metadata": {},
   "outputs": [],
   "source": [
    "# scaler = MinMaxScaler()\n",
    "# X_res = scaler.fit_transform(X_res)\n",
    "# y_res = scaler.fit_transform(y_res)"
   ]
  },
  {
   "cell_type": "code",
   "execution_count": 43,
   "id": "733f105b",
   "metadata": {},
   "outputs": [],
   "source": [
    "# pd.DataFrame(X_res)\n",
    "# features.columns"
   ]
  },
  {
   "cell_type": "code",
   "execution_count": 44,
   "id": "8fc8f825",
   "metadata": {},
   "outputs": [],
   "source": [
    "# from lazypredict.Supervised import LazyClassifier\n",
    "# from sklearn.model_selection import train_test_split\n",
    "# clf = LazyClassifier(verbose=0,ignore_warnings=True, custom_metric=None)\n",
    "# models,predictions = clf.fit(X_train, X_test, y_train, y_test)\n",
    "# models"
   ]
  },
  {
   "cell_type": "code",
   "execution_count": 45,
   "id": "92873f70",
   "metadata": {},
   "outputs": [],
   "source": [
    "# %%time\n",
    "# knn = KNeighborsClassifier(n_neighbors=5,p=1)\n",
    "\n",
    "# knn.fit(X_train,np.ravel(y_train))\n",
    "# y_pred = knn.predict(X_test)\n",
    "\n",
    "\n",
    "# print(\"Classification Report for K-Nearest Neighbours: \\n\", classification_report(y_test, y_pred))\n",
    "# print(\"Confusion Matrix of K-Nearest Neigbours: \\n\", confusion_matrix(y_test,y_pred))\n"
   ]
  },
  {
   "cell_type": "code",
   "execution_count": 46,
   "id": "79c847e5",
   "metadata": {},
   "outputs": [],
   "source": [
    "# %%time\n",
    "# rf_clf = RandomForestClassifier(n_estimators=100,\n",
    "#                                 max_depth=8,\n",
    "#                                 random_state=42,\n",
    "#                                 verbose=0,\n",
    "#                                 class_weight=\"balanced\")\n",
    "\n",
    "# rf_clf.fit(X_train,np.ravel(y_train))\n",
    "# y_pred = rf_clf.predict(X_test)\n",
    "\n",
    "# print(\"Classification Report for Random Forest Classifier: \\n\", classification_report(y_test, y_pred))\n",
    "# print(\"Confusion Matrix of Random Forest Classifier: \\n\", confusion_matrix(y_test,y_pred))\n"
   ]
  },
  {
   "cell_type": "code",
   "execution_count": 47,
   "id": "5ddfde96",
   "metadata": {},
   "outputs": [],
   "source": [
    "# pd.Series(rf_clf.feature_importances_,index=pd.DataFrame(X_train).columns).nlargest(3).plot(kind='barh')"
   ]
  },
  {
   "cell_type": "code",
   "execution_count": 48,
   "id": "2b85ba76",
   "metadata": {
    "scrolled": true
   },
   "outputs": [],
   "source": [
    "# deploy = pd.read_excel(r'C:\\Users\\SamadovIAz\\Desktop\\snd\\py\\deploy_data.xlsx')\n",
    "# deploy"
   ]
  },
  {
   "cell_type": "code",
   "execution_count": 49,
   "id": "bcddced1",
   "metadata": {},
   "outputs": [],
   "source": [
    "# deploy_d=pd.get_dummies(deploy[['AGE','GENDER','MCC_GROUP','AMOUNT','EXPERIENCE_BY_MONTH']],drop_first=True)\n",
    "# deploy_d"
   ]
  },
  {
   "cell_type": "code",
   "execution_count": 50,
   "id": "6ab9fbeb",
   "metadata": {},
   "outputs": [],
   "source": [
    "# deploy_d=get_ohe(deploy_d[features])\n",
    "# deploy_d"
   ]
  },
  {
   "cell_type": "code",
   "execution_count": 51,
   "id": "6db5168c",
   "metadata": {},
   "outputs": [],
   "source": [
    "# deploy_p = rf_clf.predict(deploy_d)\n",
    "# deploy_p"
   ]
  },
  {
   "cell_type": "code",
   "execution_count": null,
   "id": "5c6ee88d",
   "metadata": {},
   "outputs": [],
   "source": []
  },
  {
   "cell_type": "code",
   "execution_count": null,
   "id": "dcacc75d",
   "metadata": {},
   "outputs": [],
   "source": []
  },
  {
   "cell_type": "code",
   "execution_count": null,
   "id": "c1049d81",
   "metadata": {},
   "outputs": [],
   "source": []
  },
  {
   "cell_type": "code",
   "execution_count": null,
   "id": "482bcf61",
   "metadata": {},
   "outputs": [],
   "source": []
  }
 ],
 "metadata": {
  "kernelspec": {
   "display_name": "Python 3 (ipykernel)",
   "language": "python",
   "name": "python3"
  },
  "language_info": {
   "codemirror_mode": {
    "name": "ipython",
    "version": 3
   },
   "file_extension": ".py",
   "mimetype": "text/x-python",
   "name": "python",
   "nbconvert_exporter": "python",
   "pygments_lexer": "ipython3",
   "version": "3.9.7"
  }
 },
 "nbformat": 4,
 "nbformat_minor": 5
}
